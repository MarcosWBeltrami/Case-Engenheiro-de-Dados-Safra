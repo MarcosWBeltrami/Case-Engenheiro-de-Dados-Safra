{
  "nbformat": 4,
  "nbformat_minor": 0,
  "metadata": {
    "colab": {
      "provenance": [],
      "authorship_tag": "ABX9TyPDTEgBl3ak8ApaNvZdu/U2",
      "include_colab_link": true
    },
    "kernelspec": {
      "name": "python3",
      "display_name": "Python 3"
    },
    "language_info": {
      "name": "python"
    }
  },
  "cells": [
    {
      "cell_type": "markdown",
      "metadata": {
        "id": "view-in-github",
        "colab_type": "text"
      },
      "source": [
        "<a href=\"https://colab.research.google.com/github/MarcosWBeltrami/Case-Engenheiro-de-Dados-Safra/blob/main/Case_Engenheiro_de_Dados.ipynb\" target=\"_parent\"><img src=\"https://colab.research.google.com/assets/colab-badge.svg\" alt=\"Open In Colab\"/></a>"
      ]
    },
    {
      "cell_type": "markdown",
      "source": [
        "\n",
        "\n",
        "#Case Engenheiro de Dados\n",
        "##Projeto parta apresentar o saldo atualizado da conta corrente de todos os clientes separados por data onde seja possível reprocessar/identificar as alterações de saldos entre os dias.\n",
        "\n"
      ],
      "metadata": {
        "id": "cWSa-SIa906C"
      }
    },
    {
      "cell_type": "markdown",
      "source": [
        "## importando PySpark"
      ],
      "metadata": {
        "id": "oQNQhPpJ93Zr"
      }
    },
    {
      "cell_type": "code",
      "execution_count": 1,
      "metadata": {
        "colab": {
          "base_uri": "https://localhost:8080/"
        },
        "id": "itaBhW-G9nwC",
        "outputId": "3988d7eb-8e6a-4117-e1ea-e086b30c5fc7"
      },
      "outputs": [
        {
          "output_type": "stream",
          "name": "stdout",
          "text": [
            "Requirement already satisfied: pyspark in /usr/local/lib/python3.10/dist-packages (3.5.0)\n",
            "Requirement already satisfied: py4j==0.10.9.7 in /usr/local/lib/python3.10/dist-packages (from pyspark) (0.10.9.7)\n"
          ]
        }
      ],
      "source": [
        "!pip install pyspark\n",
        "\n",
        "from pyspark.sql import SparkSession\n",
        "from pyspark.sql import functions as F\n",
        "from pyspark.sql.types import DoubleType\n",
        "\n",
        "\n",
        "spark = SparkSession.builder.master(\"local\").getOrCreate()"
      ]
    },
    {
      "cell_type": "markdown",
      "source": [
        "##Definindo caminho"
      ],
      "metadata": {
        "id": "6eymtDjl91M8"
      }
    },
    {
      "cell_type": "code",
      "source": [
        "# Definir o esquema dos DataFrames, para conseguir tratar os dados no formato correto\n",
        "schema_movimentacao = \"Nome STRING, CPF STRING, Movimentacao_dia DOUBLE, data STRING\"\n",
        "schema_saldo_inicial = \"Nome STRING, CPF STRING, Saldo_Inicial_CC DOUBLE, data STRING\"\n",
        "\n",
        "#definição dos caminhos, pode ser tratado diretamente na leitura, porém decidi por colocar separado para facil manutenção\n",
        "caminho_02_04_2022 = \"movimentacao_dia_02_04_2022.txt\"\n",
        "caminho_03_04_2022 = \"movimentacao_dia_03_04_2022.txt\"\n",
        "caminho_tabela_saldo_inicial = \"tabela_saldo_inicial.txt\"\n",
        "\n",
        "# leitura dis arquivos de textos\n",
        "movimentacao_dia_02_04_2022 = spark.read.csv(caminho_02_04_2022, sep=';', header=True, schema=schema_movimentacao)\n",
        "movimentacao_dia_03_04_2022 = spark.read.csv(caminho_03_04_2022, sep=';', header=True, schema=schema_movimentacao)\n",
        "tabela_saldo_inicial = spark.read.csv(caminho_tabela_saldo_inicial, sep=';', header=True, schema=schema_saldo_inicial)\n",
        "tabela_saldo = tabela_saldo_inicial #criado para caso seja necessario alterar o tabela_saldo_inicial ter um historico dos dados iniciais"
      ],
      "metadata": {
        "id": "g--Ntf319zqt"
      },
      "execution_count": 2,
      "outputs": []
    },
    {
      "cell_type": "markdown",
      "source": [
        "##Tratamento do DataFrame"
      ],
      "metadata": {
        "id": "4_jvgwrhAzHS"
      }
    },
    {
      "cell_type": "code",
      "source": [
        "# DataFrame com todos os CPFs únicos, foi necessario a criação para que possa ter o resultado de todos os CPFs mesmo os que não foram alterados para melhor vizualição e manuseio\n",
        "todos_cpfs = tabela_saldo_inicial.select(\"CPF\").distinct()\n",
        "\n",
        "# DataFrame para a data 02/04/2022\n",
        "df_saldo_02_04_2022 = (\n",
        "    movimentacao_dia_02_04_2022\n",
        "    .groupBy(\"CPF\", \"data\")\n",
        "    .agg(F.sum(\"Movimentacao_dia\").alias(\"movimentacao_02_04_2022\"))\n",
        ")\n",
        "\n",
        "# DataFrame para a data 03/04/2022\n",
        "df_saldo_03_04_2022 = (\n",
        "    movimentacao_dia_03_04_2022\n",
        "    .groupBy(\"CPF\", \"data\")\n",
        "    .agg(F.sum(\"Movimentacao_dia\").alias(\"movimentacao_03_04_2022\"))\n",
        ")"
      ],
      "metadata": {
        "id": "0tEihneMFq7Y"
      },
      "execution_count": 3,
      "outputs": []
    },
    {
      "cell_type": "code",
      "source": [
        "df_saldo_02_04_2022.show()"
      ],
      "metadata": {
        "colab": {
          "base_uri": "https://localhost:8080/"
        },
        "id": "MYW2CMtSUxsE",
        "outputId": "3746d3dd-4791-4645-d92c-a0b6e3a1de57"
      },
      "execution_count": 4,
      "outputs": [
        {
          "output_type": "stream",
          "name": "stdout",
          "text": [
            "+-----------+----------+-----------------------+\n",
            "|        CPF|      data|movimentacao_02_04_2022|\n",
            "+-----------+----------+-----------------------+\n",
            "|00000000010|02/04/2022|                 600.35|\n",
            "|00000000007|02/04/2022|                 292.86|\n",
            "|00000000006|02/04/2022|                 283.77|\n",
            "|00000000004|02/04/2022|                 241.62|\n",
            "|00000000005|02/04/2022|                  87.63|\n",
            "+-----------+----------+-----------------------+\n",
            "\n"
          ]
        }
      ]
    },
    {
      "cell_type": "markdown",
      "source": [
        "## Join com as 3 tabelas, baseando no CPF como chave primaria\n",
        "#### Uma parte muito importante, onde realmente é feito o tratamento do codigo, e realizado os JOINs, que consiste em trabalhar em cada tabela da melhor maneira."
      ],
      "metadata": {
        "id": "lXoq8oHpMw8e"
      }
    },
    {
      "cell_type": "code",
      "source": [
        "df_saldo_atualizado = (\n",
        "    todos_cpfs\n",
        "    .join(\n",
        "        df_saldo_02_04_2022,\n",
        "        on=[\"CPF\"],\n",
        "        how=\"left_outer\"\n",
        "    )\n",
        "    .join(\n",
        "        df_saldo_03_04_2022,\n",
        "        on=[\"CPF\"],\n",
        "        how=\"full_outer\"\n",
        "    )\n",
        "    .join(\n",
        "        tabela_saldo_inicial.select(\"Nome\", \"CPF\", \"Saldo_Inicial_CC\", F.col(\"data\").alias(\"data_inicio\")),\n",
        "        on=[\"CPF\"],\n",
        "        how=\"left_outer\"\n",
        "    )\n",
        "    .select(\n",
        "        F.col(\"CPF\"),\n",
        "        F.col(\"data_inicio\"),\n",
        "        F.round(F.col(\"Saldo_Inicial_CC\"), 2).alias(\"saldo_inicial\"),\n",
        "        F.round(F.when(F.col(\"movimentacao_02_04_2022\").isNull(), 0).otherwise(F.col(\"movimentacao_02_04_2022\")), 2).alias(\"movimentacao_02_04_2022\"),\n",
        "        F.round(\n",
        "            F.when(F.col(\"movimentacao_02_04_2022\") != 0.0, F.col(\"Saldo_Inicial_CC\") + F.col(\"movimentacao_02_04_2022\"))\n",
        "            .otherwise(F.col(\"Saldo_Inicial_CC\")), 2\n",
        "        ).alias(\"saldo_total_02_04_2022\"),\n",
        "        F.round(F.when(F.col(\"movimentacao_03_04_2022\").isNull(), 0).otherwise(F.col(\"movimentacao_03_04_2022\")), 2).alias(\"movimentacao_03_04_2022\")\n",
        "\n",
        "    )\n",
        ")"
      ],
      "metadata": {
        "id": "-07bLi8aWOzd"
      },
      "execution_count": 21,
      "outputs": []
    },
    {
      "cell_type": "markdown",
      "source": [
        "## Tratamento do resultado"
      ],
      "metadata": {
        "id": "cLwlWU2cNBEy"
      }
    },
    {
      "cell_type": "code",
      "source": [
        "# Ordenar por CPF\n",
        "df_saldo_atualizado = df_saldo_atualizado.orderBy(\"CPF\")\n",
        "\n",
        "\n",
        "# Substituir valores nulos por zero, necessario para realizar os calculos, e ter um resultado final.\n",
        "df_saldo_atualizado = df_saldo_atualizado.fillna(0, subset=[\"saldo_inicial\", \"movimentacao_02_04_2022\", \"movimentacao_03_04_2022\"])\n",
        "\n",
        "\n",
        "# Calcular o saldo total\n",
        "df_saldo_atualizado = df_saldo_atualizado.withColumn(\n",
        "    \"saldo_total\",\n",
        "    F.round(F.expr(\"saldo_inicial + coalesce(movimentacao_02_04_2022, 0) + coalesce(movimentacao_03_04_2022, 0)\"), 2)\n",
        ")\n",
        "\n",
        "\n",
        "# Coluna indicando se o saldo total é negativo, achei necessario já que é uma conta corrente considero uma informação impórtante e até facilita caso seja necesasario tomar alguma atitude\n",
        "df_saldo_atualizado = df_saldo_atualizado.withColumn(\"saldo_negativo\", F.when(F.col(\"saldo_total\") < 0, \"Sim\").otherwise(\"Nao\"))\n"
      ],
      "metadata": {
        "id": "anT9MTzqM8xi"
      },
      "execution_count": 22,
      "outputs": []
    },
    {
      "cell_type": "markdown",
      "source": [
        "## Salvando um CSV"
      ],
      "metadata": {
        "id": "oC184Q9FKX2F"
      }
    },
    {
      "cell_type": "code",
      "source": [
        "# Definindo caminho de Salvamento\n",
        "caminho_resultado_csv = \"saldo_atualizado.csv\"\n",
        "\n",
        "# Salvando CVS\n",
        "df_saldo_atualizado.write.csv(caminho_resultado_csv, header=True, mode=\"overwrite\")"
      ],
      "metadata": {
        "id": "RVJxIt-lJgVk"
      },
      "execution_count": 7,
      "outputs": []
    },
    {
      "cell_type": "markdown",
      "source": [
        "## Apresentando o resultado"
      ],
      "metadata": {
        "id": "Pg0RXrE0Kcwm"
      }
    },
    {
      "cell_type": "code",
      "source": [
        "#Apresentando DataFrame\n",
        "df_saldo_atualizado.show(truncate=False)"
      ],
      "metadata": {
        "colab": {
          "base_uri": "https://localhost:8080/"
        },
        "id": "G7YPFUiuWRHL",
        "outputId": "866dd065-b343-48c9-e0dd-1f07f55d6476"
      },
      "execution_count": 23,
      "outputs": [
        {
          "output_type": "stream",
          "name": "stdout",
          "text": [
            "+-----------+-----------+-------------+-----------------------+----------------------+-----------------------+-----------+--------------+\n",
            "|CPF        |data_inicio|saldo_inicial|movimentacao_02_04_2022|saldo_total_02_04_2022|movimentacao_03_04_2022|saldo_total|saldo_negativo|\n",
            "+-----------+-----------+-------------+-----------------------+----------------------+-----------------------+-----------+--------------+\n",
            "|00000000001|01/04/2022 |523.86       |0.0                    |523.86                |891.32                 |1415.18    |Nao           |\n",
            "|00000000002|01/04/2022 |917.78       |0.0                    |917.78                |548.93                 |1466.71    |Nao           |\n",
            "|00000000003|01/04/2022 |321.84       |0.0                    |321.84                |-309.27                |12.57      |Nao           |\n",
            "|00000000004|01/04/2022 |271.51       |241.62                 |513.13                |0.0                    |513.13     |Nao           |\n",
            "|00000000005|01/04/2022 |225.55       |87.63                  |313.18                |169.51                 |482.69     |Nao           |\n",
            "|00000000006|01/04/2022 |875.5        |283.77                 |1159.27               |161.22                 |1320.49    |Nao           |\n",
            "|00000000007|01/04/2022 |365.88       |292.86                 |658.74                |133.67                 |792.41     |Nao           |\n",
            "|00000000008|01/04/2022 |832.63       |0.0                    |832.63                |190.36                 |1022.99    |Nao           |\n",
            "|00000000009|01/04/2022 |221.12       |0.0                    |221.12                |0.0                    |221.12     |Nao           |\n",
            "|00000000010|NULL       |0.0          |0.0                    |NULL                  |-274.74                |-274.74    |Sim           |\n",
            "|00000000011|NULL       |0.0          |0.0                    |NULL                  |768.36                 |768.36     |Nao           |\n",
            "+-----------+-----------+-------------+-----------------------+----------------------+-----------------------+-----------+--------------+\n",
            "\n"
          ]
        }
      ]
    },
    {
      "cell_type": "code",
      "source": [
        "#Apresentando DataFrame\n",
        "df_saldo_atualizado.show(truncate=False)"
      ],
      "metadata": {
        "colab": {
          "base_uri": "https://localhost:8080/"
        },
        "id": "WCfhtv5bA-Eh",
        "outputId": "d8e96ca4-6abf-4eb0-c4ee-21903cdf928a"
      },
      "execution_count": 9,
      "outputs": [
        {
          "output_type": "stream",
          "name": "stdout",
          "text": [
            "+-----------+-----------+-------------+-----------------------+----------------------+-----------------------+----------------------+-----------+--------------+\n",
            "|CPF        |data_inicio|saldo_inicial|movimentacao_02_04_2022|saldo_total_02_04_2022|movimentacao_03_04_2022|saldo_total_03_04_2022|saldo_total|saldo_negativo|\n",
            "+-----------+-----------+-------------+-----------------------+----------------------+-----------------------+----------------------+-----------+--------------+\n",
            "|00000000001|01/04/2022 |523.86       |523.86                 |1047.72               |891.32                 |1415.18               |1939.04    |Nao           |\n",
            "|00000000002|01/04/2022 |917.78       |917.78                 |1835.56               |548.93                 |1466.71               |2384.49    |Nao           |\n",
            "|00000000003|01/04/2022 |321.84       |321.84                 |643.68                |-309.27                |12.57                 |334.41     |Nao           |\n",
            "|00000000004|01/04/2022 |271.51       |241.62                 |513.13                |0.0                    |543.02                |513.13     |Nao           |\n",
            "|00000000005|01/04/2022 |225.55       |87.63                  |313.18                |169.51                 |395.06                |482.69     |Nao           |\n",
            "|00000000006|01/04/2022 |875.5        |283.77                 |1159.27               |161.22                 |1036.72               |1320.49    |Nao           |\n",
            "|00000000007|01/04/2022 |365.88       |292.86                 |658.74                |133.67                 |499.55                |792.41     |Nao           |\n",
            "|00000000008|01/04/2022 |832.63       |832.63                 |1665.26               |190.36                 |1022.99               |1855.62    |Nao           |\n",
            "|00000000009|01/04/2022 |221.12       |221.12                 |442.24                |0.0                    |442.24                |442.24     |Nao           |\n",
            "|00000000010|NULL       |0.0          |0.0                    |NULL                  |-274.74                |NULL                  |-274.74    |Sim           |\n",
            "|00000000011|NULL       |0.0          |0.0                    |NULL                  |768.36                 |NULL                  |768.36     |Nao           |\n",
            "+-----------+-----------+-------------+-----------------------+----------------------+-----------------------+----------------------+-----------+--------------+\n",
            "\n"
          ]
        }
      ]
    },
    {
      "cell_type": "code",
      "source": [
        "# Demonstração dos tipos de dados, que foi definido no inicio do codigo\n",
        "df_saldo_atualizado"
      ],
      "metadata": {
        "colab": {
          "base_uri": "https://localhost:8080/"
        },
        "id": "qOb6UBfUPof9",
        "outputId": "a10b9d41-adb5-4ff7-cf8a-710715716c58"
      },
      "execution_count": 10,
      "outputs": [
        {
          "output_type": "execute_result",
          "data": {
            "text/plain": [
              "DataFrame[CPF: string, data_inicio: string, saldo_inicial: double, movimentacao_02_04_2022: double, saldo_total_02_04_2022: double, movimentacao_03_04_2022: double, saldo_total_03_04_2022: double, saldo_total: double, saldo_negativo: string]"
            ]
          },
          "metadata": {},
          "execution_count": 10
        }
      ]
    },
    {
      "cell_type": "code",
      "source": [],
      "metadata": {
        "id": "Pl4jqUfRR40d"
      },
      "execution_count": 10,
      "outputs": []
    }
  ]
}